{
 "cells": [
  {
   "cell_type": "code",
   "execution_count": 1,
   "id": "aff7d3f3",
   "metadata": {},
   "outputs": [],
   "source": [
    "import qrcode"
   ]
  },
  {
   "cell_type": "code",
   "execution_count": null,
   "id": "6d9d3f57",
   "metadata": {},
   "outputs": [],
   "source": []
  },
  {
   "cell_type": "code",
   "execution_count": 18,
   "id": "cbe0f181",
   "metadata": {},
   "outputs": [],
   "source": [
    "\n",
    "qr = qrcode.QRCode(version = 1, box_size = 15, border = 5 )\n",
    "qr.add_data(data)\n",
    "qr.make(fit = True)\n",
    "\n",
    "image = qr.make_image(fill = 'black', back_color = 'white')\n",
    "image.save(\"hahah.png\")\n",
    "\n"
   ]
  },
  {
   "cell_type": "code",
   "execution_count": null,
   "id": "242b69f7",
   "metadata": {},
   "outputs": [],
   "source": []
  }
 ],
 "metadata": {
  "kernelspec": {
   "display_name": "Python 3 (ipykernel)",
   "language": "python",
   "name": "python3"
  },
  "language_info": {
   "codemirror_mode": {
    "name": "ipython",
    "version": 3
   },
   "file_extension": ".py",
   "mimetype": "text/x-python",
   "name": "python",
   "nbconvert_exporter": "python",
   "pygments_lexer": "ipython3",
   "version": "3.11.4"
  }
 },
 "nbformat": 4,
 "nbformat_minor": 5
}

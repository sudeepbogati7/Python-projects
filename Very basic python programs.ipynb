{
 "cells": [
  {
   "cell_type": "code",
   "execution_count": 1,
   "id": "9cdf1e81",
   "metadata": {},
   "outputs": [
    {
     "name": "stdout",
     "output_type": "stream",
     "text": [
      "original numbers are :  [1, 2, 3, 4, 5]\n",
      "The squares of the numbers are :  [1, 4, 9, 16, 25]\n"
     ]
    }
   ],
   "source": [
    "# 1.\n",
    "#Write a Python program to triple all numbers in a given list of integers. Use Python map.\n",
    "\n",
    "\n",
    "nums = [1,2,3,4,5]\n",
    "print(\"original numbers are : \",nums)\n",
    "\n",
    "result = map(lambda x: x*x , nums)\n",
    "print(\"The squares of the numbers are : \",list(result))"
   ]
  },
  {
   "cell_type": "code",
   "execution_count": 6,
   "id": "16131c8e",
   "metadata": {},
   "outputs": [
    {
     "name": "stdout",
     "output_type": "stream",
     "text": [
      "List before :  ['red', 'pink', 'black', 'white'] \n",
      " \n",
      "\n"
     ]
    },
    {
     "data": {
      "text/plain": [
       "[['r', 'e', 'd'],\n",
       " ['p', 'i', 'n', 'k'],\n",
       " ['b', 'l', 'a', 'c', 'k'],\n",
       " ['w', 'h', 'i', 't', 'e']]"
      ]
     },
     "execution_count": 6,
     "metadata": {},
     "output_type": "execute_result"
    }
   ],
   "source": [
    "#2. \n",
    "#Write a Python program to listify the list of given strings individually using Python map\n",
    "\n",
    "\n",
    "colors = ['red', 'pink','black','white']\n",
    "\n",
    "print(\"List before : \", colors,'\\n \\n')\n",
    "\n",
    "result = map(list, colors)\n",
    "list(result)"
   ]
  },
  {
   "cell_type": "code",
   "execution_count": 11,
   "id": "4c2d4303",
   "metadata": {},
   "outputs": [
    {
     "name": "stdout",
     "output_type": "stream",
     "text": [
      "base numbers and index :  [10, 20, 30, 40, 50, 60] \n",
      " [0, 1, 2, 3, 4, 5]\n",
      "[1, 20, 900, 64000, 6250000, 777600000]\n"
     ]
    }
   ],
   "source": [
    "#3.\n",
    "# Write a Python program to create a list containing the power of said number in bases raised to the corresponding number \n",
    "#in the index using Python map.\n",
    "\n",
    "bases = [10,20,30,40,50,60]\n",
    "index = [0,1,2,3,4,5]\n",
    "\n",
    "print('base numbers and index : ', bases,'\\n', index)\n",
    "\n",
    "result = map(pow, bases, index)\n",
    "print(list(result))\n"
   ]
  },
  {
   "cell_type": "code",
   "execution_count": 12,
   "id": "28964011",
   "metadata": {},
   "outputs": [],
   "source": [
    "import re"
   ]
  },
  {
   "cell_type": "code",
   "execution_count": 21,
   "id": "9b5e36f8",
   "metadata": {},
   "outputs": [
    {
     "name": "stdout",
     "output_type": "stream",
     "text": [
      "False\n",
      "False\n"
     ]
    }
   ],
   "source": [
    "def is_allowed_specific_char(string):\n",
    "    charRe = re.compile(r'[a-zA-Z0-9]')\n",
    "    string = charRe.search(string)\n",
    "    return not bool(string)\n",
    "print(is_allowed_specific_char(\"nepalisthe1#$%\"))\n",
    "print(is_allowed_specific_char('Neaplaisthemostdfhdf'))"
   ]
  },
  {
   "cell_type": "code",
   "execution_count": 22,
   "id": "bc2c828a",
   "metadata": {},
   "outputs": [
    {
     "data": {
      "text/plain": [
       "11"
      ]
     },
     "execution_count": 22,
     "metadata": {},
     "output_type": "execute_result"
    }
   ],
   "source": [
    "def sum(x,y):\n",
    "    result = x+y\n",
    "    return result \n",
    "sum(5,6)"
   ]
  },
  {
   "cell_type": "code",
   "execution_count": 31,
   "id": "f7656ad7",
   "metadata": {},
   "outputs": [
    {
     "data": {
      "text/plain": [
       "45"
      ]
     },
     "execution_count": 31,
     "metadata": {},
     "output_type": "execute_result"
    }
   ],
   "source": [
    "#4. find the largest number from the given list \n",
    "\n",
    "def largest_num(numbers):\n",
    "    if not numbers:\n",
    "        return None\n",
    "    largest = numbers[0]\n",
    "    for num in numbers : \n",
    "        if num>largest :\n",
    "            largest = num\n",
    "    return largest\n",
    "\n",
    "numbers_list = [1,2,3,4,5,6,45]\n",
    "largest_num(numbers_list)\n"
   ]
  },
  {
   "cell_type": "code",
   "execution_count": 41,
   "id": "3058c5e8",
   "metadata": {},
   "outputs": [
    {
     "data": {
      "text/plain": [
       "28"
      ]
     },
     "execution_count": 41,
     "metadata": {},
     "output_type": "execute_result"
    }
   ],
   "source": [
    "#5. Write a Python function to sum all the numbers in a list.\n",
    "\n",
    "initial_nums = [1,2,3,4,5,6,7]\n",
    "\n",
    "def sum_of_all_nums(num_list):\n",
    "    sum = 0\n",
    "    for num in num_list:\n",
    "        sum += num\n",
    "    return sum\n",
    "sum_of_all_nums(initial_nums)\n"
   ]
  },
  {
   "cell_type": "code",
   "execution_count": 39,
   "id": "45120859",
   "metadata": {},
   "outputs": [
    {
     "data": {
      "text/plain": [
       "[(1, 1), (2, 4), (3, 9), (4, 16), (5, 25), (6, 36)]"
      ]
     },
     "execution_count": 39,
     "metadata": {},
     "output_type": "execute_result"
    }
   ],
   "source": [
    "#6. Creating a list of tuples from two separate lists\n",
    "\n",
    "numbers = [1,2,3,4,5,6]\n",
    "squares = [num**2 for num in numbers]\n",
    "square_pairs = [ (num, square) for num, square in zip(numbers, squares) ]\n",
    "square_pairs\n"
   ]
  },
  {
   "cell_type": "code",
   "execution_count": 60,
   "id": "03ef305e",
   "metadata": {},
   "outputs": [
    {
     "data": {
      "text/plain": [
       "'nepal is beauitiful'"
      ]
     },
     "execution_count": 60,
     "metadata": {},
     "output_type": "execute_result"
    }
   ],
   "source": [
    "#7.  Write a Python program to reverse a string.\n",
    "\n",
    "string = 'lufitiuaeb si lapen'\n",
    "\n",
    "def rev_string(sam_string):\n",
    "    rstr = ''\n",
    "    index = len(sam_string)\n",
    "    while index > 0:\n",
    "        rstr = rstr + sam_string[index-1]\n",
    "        index  = index -1\n",
    "    return rstr\n",
    "\n",
    "rev_string(string)"
   ]
  },
  {
   "cell_type": "code",
   "execution_count": 99,
   "id": "5c44405d",
   "metadata": {},
   "outputs": [
    {
     "name": "stdout",
     "output_type": "stream",
     "text": [
      "Enter the number you want the factorial of :5\n",
      "\n",
      " \n",
      "The factorial of number  5  is  120\n"
     ]
    }
   ],
   "source": [
    "# 8. Write a Python function to calculate the factorial of a number (a non-negative integer). The function accepts the number as an argument.\n",
    "\n",
    "\n",
    "def fact(number):\n",
    "    if number ==0:\n",
    "        return 1\n",
    "    else:\n",
    "        return number * fact(number-1)\n",
    "n = int(input(\"Enter the number you want the factorial of :\"))\n",
    "print(\"\\n \\nThe factorial of number \", n, \" is \",fact(n))"
   ]
  },
  {
   "cell_type": "code",
   "execution_count": 112,
   "id": "cf8a53f1",
   "metadata": {},
   "outputs": [
    {
     "name": "stdout",
     "output_type": "stream",
     "text": [
      "enter the range : \n",
      "start : 4\n",
      "End : 5\n"
     ]
    },
    {
     "data": {
      "text/plain": [
       "'outta range'"
      ]
     },
     "execution_count": 112,
     "metadata": {},
     "output_type": "execute_result"
    }
   ],
   "source": [
    "#9. Write a Python function to check whether a number falls within a given range\n",
    "\n",
    "\n",
    "def is_in_range(n_range):\n",
    "    n = 5\n",
    "    if n_range[0] == n:\n",
    "        return 'is in range !'\n",
    "    else :\n",
    "        return \"outta range\"\n",
    "\n",
    "print(\"enter the range : \")\n",
    "start = int(input(\"start : \"))\n",
    "end = int(input(\"End : \"))\n",
    "\n",
    "number_range = list(range(start, end +1))\n",
    "\n",
    "is_in_range(number_range)\n",
    "    \n",
    "        \n"
   ]
  },
  {
   "cell_type": "code",
   "execution_count": 113,
   "id": "b547302f",
   "metadata": {},
   "outputs": [
    {
     "name": "stdout",
     "output_type": "stream",
     "text": [
      "Enter a number ! : 1\n",
      "The number is out of range ! \n"
     ]
    }
   ],
   "source": [
    "# in a given range\n",
    "def test_range(n):\n",
    "    if n in range(5,10):\n",
    "        print(\"The number is in range ! \")\n",
    "    else:\n",
    "        print(\"The number is out of range ! \")\n",
    "\n",
    "number = int(input(\"Enter a number ! : \"))\n",
    "test_range(number)\n"
   ]
  },
  {
   "cell_type": "code",
   "execution_count": 35,
   "id": "3474a170",
   "metadata": {},
   "outputs": [],
   "source": [
    "#10.\n",
    "# Write a Python function that accepts a string and counts the number of upper and lower case letters."
   ]
  },
  {
   "cell_type": "code",
   "execution_count": 38,
   "id": "ad3e4561",
   "metadata": {},
   "outputs": [
    {
     "name": "stdout",
     "output_type": "stream",
     "text": [
      "No of upper case :   4\n",
      "No of lower case :   20\n"
     ]
    }
   ],
   "source": [
    "def test_string(string):\n",
    "    d = {\"UPPER_CASE\":0, \"LOWER_CASE\":0}\n",
    "    for c in string:\n",
    "        if c.islower():\n",
    "            d['LOWER_CASE']+=1\n",
    "        elif c.isupper():\n",
    "            d[\"UPPER_CASE\"]+=1\n",
    "        else:\n",
    "            pass\n",
    "    print(\"No of upper case :  \", d[\"UPPER_CASE\"])\n",
    "    print(\"No of lower case :  \", d[\"LOWER_CASE\"])\n",
    "\n",
    "string1 = \"Nepal Is a Beautiful Country\"\n",
    "test_string(string1)"
   ]
  },
  {
   "cell_type": "code",
   "execution_count": 69,
   "id": "d530eda9",
   "metadata": {},
   "outputs": [
    {
     "data": {
      "text/plain": [
       "[1, 2, 3, 4, 5, 6, 8, 7, 10]"
      ]
     },
     "execution_count": 69,
     "metadata": {},
     "output_type": "execute_result"
    }
   ],
   "source": [
    "#11.\n",
    "#Write a Python function that takes a list and returns a new list with distinct elements from the first list.\n",
    "\n",
    "def unique_list(mess_list):\n",
    "    new_list = []\n",
    "    for n in mess_list:\n",
    "        if n not in new_list:\n",
    "            new_list.append(n)\n",
    "    return new_list\n",
    "            \n",
    "    print(new_list)\n",
    "unique_list([1,1,2,2,3,1,2,4,5,6,6,6,8,5,5,8,7,5,10])"
   ]
  },
  {
   "cell_type": "code",
   "execution_count": 82,
   "id": "ee7f9dde",
   "metadata": {},
   "outputs": [
    {
     "name": "stdout",
     "output_type": "stream",
     "text": [
      "zoos\n",
      "NewZeeland\n"
     ]
    }
   ],
   "source": [
    "#12.\n",
    "# . Write a Python program that matches a word containing 'z'.\n",
    "\n",
    "string = 'There are so many zoos in NewZeeland '\n",
    "\n",
    "def find_z(string):\n",
    "    splitted_string = string.split()\n",
    "    for word in splitted_string:\n",
    "        if 'z' in word.lower() :\n",
    "            print(word)\n",
    "find_z(string)"
   ]
  },
  {
   "cell_type": "code",
   "execution_count": 3,
   "id": "7601aa7b",
   "metadata": {},
   "outputs": [
    {
     "name": "stdout",
     "output_type": "stream",
     "text": [
      "Even numbers are :  [2, 4, 6, 8, 10, 44, 46]\n"
     ]
    }
   ],
   "source": [
    "# 13\n",
    "# Write a Python program to print the even numbers from a given list.\n",
    "\n",
    "user_list = [1,2,3,4,5,6,7,8,9,10,11,25,15,44,49,46]\n",
    "\n",
    "def is_even_number(numbers):\n",
    "    even_numbers = []\n",
    "    for num in numbers:\n",
    "        if num %2 == 0:\n",
    "            even_numbers.append(num)\n",
    "    print('Even numbers are : ', even_numbers)\n",
    "\n",
    "is_even_number(user_list)"
   ]
  },
  {
   "cell_type": "code",
   "execution_count": 17,
   "id": "9dcd2bbc",
   "metadata": {},
   "outputs": [
    {
     "name": "stdout",
     "output_type": "stream",
     "text": [
      "Roots of the number  6 is  [1, 2, 3]\n",
      "The number  6  is a perfect number !\n"
     ]
    }
   ],
   "source": [
    "#14\n",
    "#Write a Python function to check whether a number is \"Perfect\" or not.\n",
    "# The first perfect number is 6, because 1, 2, and 3 are its proper positive divisors, and 1 + 2 + 3 = 6. Equivalently, the number 6 is equal to half the sum of all its positive divisors: ( 1 + 2 + 3 + 6 ) / 2 = 6. \n",
    "\n",
    "\n",
    "def is_a_perfect_number(number):\n",
    "    roots = []\n",
    "    for i in range(1,number):\n",
    "        if number % i == 0:\n",
    "            roots.append(i)\n",
    "    print(\"Roots of the number \", number , 'is ', roots)\n",
    "    sum = 0\n",
    "    for i in roots:\n",
    "        sum = sum+i\n",
    "    if sum == number:\n",
    "        print(\"The number \", number ,' is a perfect number !')\n",
    "    else:\n",
    "        print(\"The sum of \", roots)\n",
    "        print(\"is not equal to \", number)\n",
    "        print(\"So, its not a perfect number ! \")\n",
    "        \n",
    "\n",
    "is_a_perfect_number(6)"
   ]
  },
  {
   "cell_type": "code",
   "execution_count": 23,
   "id": "ef843016",
   "metadata": {},
   "outputs": [
    {
     "name": "stdout",
     "output_type": "stream",
     "text": [
      "The word is palindrome ! \n"
     ]
    }
   ],
   "source": [
    "#15\n",
    "# Write a Python function that checks whether a passed string is a palindrome or not.\n",
    "\n",
    "word = 'madam'\n",
    "\n",
    "def is_a_palindrome(word):\n",
    "    r_str = ''\n",
    "    index = len(word)\n",
    "    while index >0:\n",
    "        r_str = r_str + word[index-1]\n",
    "        index = index -1\n",
    "    if r_str == word :\n",
    "        print(\"The word is palindrome ! \")\n",
    "    else:\n",
    "        print(\"The word isn't a palindrome !\")\n",
    "is_a_palindrome(word)"
   ]
  },
  {
   "cell_type": "code",
   "execution_count": 42,
   "id": "7d263a35",
   "metadata": {},
   "outputs": [
    {
     "name": "stdout",
     "output_type": "stream",
     "text": [
      "Match found \n"
     ]
    }
   ],
   "source": [
    "#16\n",
    "# Write a Python program that matches a string that has an a followed by three 'b'.\n",
    "import re\n",
    "def b_word(string):\n",
    "    pattern = 'ab?'\n",
    "    if re.search(pattern, word):\n",
    "        print(\"Match found \")\n",
    "    else:\n",
    "        print(\"No matches found\")\n",
    "b_word(\"aaabbbccc\")"
   ]
  },
  {
   "cell_type": "code",
   "execution_count": 48,
   "id": "d68aaf34",
   "metadata": {},
   "outputs": [
    {
     "name": "stdout",
     "output_type": "stream",
     "text": [
      "match found\n"
     ]
    }
   ],
   "source": [
    "#17\n",
    "# Write a Python program that matches a string that has an a followed by two to three 'b'.\n",
    "\n",
    "import re \n",
    "def find_b(string):\n",
    "    pattern = 'ab{2,3}'\n",
    "    if re.search(pattern, string):\n",
    "        print(\"match found\")\n",
    "    else:\n",
    "        print(\"match not found\")\n",
    "find_b('abbbbbbb')"
   ]
  },
  {
   "cell_type": "code",
   "execution_count": 55,
   "id": "8e9e7f3e",
   "metadata": {},
   "outputs": [
    {
     "data": {
      "text/plain": [
       "[14, 25, 36, 36, 45, 47, 48, 68, 69, 78]"
      ]
     },
     "execution_count": 55,
     "metadata": {},
     "output_type": "execute_result"
    }
   ],
   "source": [
    "#18\n",
    "# Write a Python program to insert items into a list in sorted order.\n",
    "\n",
    "data = [25, 45, 36, 47, 69, 48, 68, 78, 14, 36]\n",
    "sorted_data = sorted(data)\n",
    "sorted_data\n"
   ]
  },
  {
   "cell_type": "code",
   "execution_count": 66,
   "id": "ace8b80b",
   "metadata": {},
   "outputs": [
    {
     "data": {
      "text/plain": [
       "True"
      ]
     },
     "execution_count": 66,
     "metadata": {},
     "output_type": "execute_result"
    }
   ],
   "source": [
    "#19\n",
    "# Write a Python program to find a list of integers with exactly two occurrences of nineteen and at least three occurrences of five. Return True otherwise False.\n",
    "data1 = [19,23,19,20,56,15,26,12]\n",
    "data2 = [19, 15, 15, 5, 3, 3, 5, 2]\n",
    "\n",
    "def occurrence(data):\n",
    "    count_19 = 0\n",
    "    for d in data:\n",
    "        if d == 19:\n",
    "            count_19 = count_19 + 1\n",
    "    if count_19 == 2:\n",
    "        return True\n",
    "    else:\n",
    "        return False\n",
    "\n",
    "occurrence(data1)"
   ]
  },
  {
   "cell_type": "code",
   "execution_count": 73,
   "id": "56a6aced",
   "metadata": {},
   "outputs": [
    {
     "name": "stdout",
     "output_type": "stream",
     "text": [
      "['1', '2', '3', '4', '5', '5', '69', '85']\n"
     ]
    }
   ],
   "source": [
    "# 20\n",
    "# Write a Python program to convert a given list of integers and a tuple of integers in a list of strings.\n",
    "\n",
    "integer_list = [1,2,3,4,5,5,69,85]\n",
    "def convert_to_str(data):\n",
    "    str_list = []\n",
    "    for n in data:\n",
    "        str_list.append(str(n))\n",
    "    print(str_list)\n",
    "convert_to_str(integer_list)\n"
   ]
  },
  {
   "cell_type": "code",
   "execution_count": 76,
   "id": "235aaa19",
   "metadata": {},
   "outputs": [
    {
     "name": "stdout",
     "output_type": "stream",
     "text": [
      "original list:  {'science ': [12, 25, 36], 'language': [25, 56, 89]}\n",
      "\n",
      " split said dictionary of lists into list of dictionaries: \n",
      "[{'science ': 12, 'language': 25}, {'science ': 25, 'language': 56}, {'science ': 36, 'language': 89}]\n"
     ]
    }
   ],
   "source": [
    "#21\n",
    "#  Write a Python program to split a given dictionary of lists into list of dictionaries using the map function.\n",
    "\n",
    "def list_of_dict(marks):\n",
    "    result = map(dict, zip(*[[(key, val) for val in value ]for key, value in marks.items()]))\n",
    "    return list(result)\n",
    "marks = {'science ': [12,25,36] , 'language': [25,56,89]}\n",
    "print('original list: ', marks)\n",
    "print(\"\\n split said dictionary of lists into list of dictionaries: \")\n",
    "\n",
    "print(list_of_dict(marks))"
   ]
  },
  {
   "cell_type": "code",
   "execution_count": 1,
   "id": "c656fcd3",
   "metadata": {},
   "outputs": [
    {
     "name": "stdout",
     "output_type": "stream",
     "text": [
      "Sum of all elements in the array: 10\n"
     ]
    }
   ],
   "source": [
    "#22\n",
    "#challege by Pushpa Kamal oli \n",
    "def sum_2d_array(arr):\n",
    "    sum = 0\n",
    "    for sublist in arr:\n",
    "        for num in sublist:\n",
    "            sum += num\n",
    "    return sum\n",
    "\n",
    "array = [[3, 4], [1, 2]]\n",
    "result = sum_2d_array(array)\n",
    "print(\"Sum of all elements in the array:\", result)\n"
   ]
  },
  {
   "cell_type": "code",
   "execution_count": null,
   "id": "1786265e",
   "metadata": {},
   "outputs": [],
   "source": []
  }
 ],
 "metadata": {
  "kernelspec": {
   "display_name": "Python 3 (ipykernel)",
   "language": "python",
   "name": "python3"
  },
  "language_info": {
   "codemirror_mode": {
    "name": "ipython",
    "version": 3
   },
   "file_extension": ".py",
   "mimetype": "text/x-python",
   "name": "python",
   "nbconvert_exporter": "python",
   "pygments_lexer": "ipython3",
   "version": "3.11.4"
  }
 },
 "nbformat": 4,
 "nbformat_minor": 5
}
